{
 "cells": [
  {
   "cell_type": "code",
   "execution_count": 110,
   "id": "9408e5dd",
   "metadata": {},
   "outputs": [],
   "source": [
    "import json\n",
    "import pandas as pd\n",
    "import datetime\n",
    "from os import listdir\n",
    "from os.path import isfile, join\n",
    "import re\n"
   ]
  },
  {
   "cell_type": "code",
   "execution_count": 72,
   "id": "13d970a3",
   "metadata": {},
   "outputs": [],
   "source": [
    "path = '/Users/elisilvert/Desktop/healthchain/fhir/'\n"
   ]
  },
  {
   "cell_type": "code",
   "execution_count": 73,
   "id": "a2dfd018",
   "metadata": {},
   "outputs": [
    {
     "name": "stdout",
     "output_type": "stream",
     "text": [
      "1180\n"
     ]
    }
   ],
   "source": [
    "onlyfiles = [f for f in listdir(path) if isfile(join(path, f))]\n",
    "print(len(onlyfiles))"
   ]
  },
  {
   "cell_type": "code",
   "execution_count": 111,
   "id": "abcfa07e",
   "metadata": {},
   "outputs": [],
   "source": [
    "def process_dem_data(el):\n",
    "    el1 = el['resource']\n",
    "\n",
    "    pid = el1['id']\n",
    "    extension = el1['extension']\n",
    "    name = el1['name']\n",
    "    telecom = el1['telecom']\n",
    "\n",
    "    #store this\n",
    "    race = ''\n",
    "    ethnicity =''\n",
    "    birthplace=''\n",
    "    disability_adjusted_life_years=''\n",
    "    quality_adjusted_life_years=''\n",
    "    for d in extension:\n",
    "        if \"us-core-race\" in d['url']:\n",
    "            race = d['extension'][-1]['valueString']\n",
    "        if \"us-core-ethnicity\" in d['url']:\n",
    "            ethnicity = d['extension'][-1]['valueString'] \n",
    "        if \"patient-birthPlace\" in d['url']:\n",
    "            birthplace = d['valueAddress']\n",
    "        if \"disability-adjusted-life-years\" in d['url']:\n",
    "            disability_adjusted_life_years = d['valueDecimal']\n",
    "        if \"quality-adjusted-life-years\" in d['url']:\n",
    "            quality_adjusted_life_years = d['valueDecimal']\n",
    "\n",
    "    firstname = ''\n",
    "    lastname = ''\n",
    "    for d in name:\n",
    "        if \"official\" in d['use']:\n",
    "            lastname = d['family']\n",
    "            firstname = d['given'][0]\n",
    "            lastname = re.sub(r'\\d+', '', lastname)\n",
    "            firstname = re.sub(r'\\d+', '', firstname)\n",
    "            \n",
    "    phone = ''\n",
    "    for d in telecom:\n",
    "        if 'phone' in d['system']:\n",
    "            phone = d['value']\n",
    "\n",
    "    gender = el1['gender']\n",
    "    birthdate = el1['birthDate']\n",
    "    line = el1['address'][0]['line'][0]\n",
    "    city = el1['address'][0]['city']\n",
    "    state = el1['address'][0]['state']\n",
    "#             postalcode = el1['address'][0]['postalCode']\n",
    "    country = el1['address'][0]['country']\n",
    "    address = ', '.join([line,city,state])\n",
    "    demographics = {'patient_id':pid,\n",
    "                    'first_name':firstname,\n",
    "                    'last_name':lastname,\n",
    "                    'gender':gender,\n",
    "                    'birthdate':birthdate,\n",
    "                    'phone':phone,\n",
    "                    'address':address,\n",
    "                    'race':race,\n",
    "                    'ethnicity':ethnicity,\n",
    "#                     'birthplace':birthplace,\n",
    "                   }  \n",
    "    return demographics"
   ]
  },
  {
   "cell_type": "code",
   "execution_count": 118,
   "id": "3bd3aff6",
   "metadata": {},
   "outputs": [],
   "source": [
    "def clean_fhir_data(file):\n",
    "    \n",
    "    f = open(path+file)\n",
    "  \n",
    "    # returns JSON object as \n",
    "    # a dictionary\n",
    "    data = json.load(f)\n",
    "    data1 = data['entry']\n",
    "    cleaned_data1 = {}\n",
    "    conditions_l = []\n",
    "    procedures_l = []\n",
    "    medications_l = []\n",
    "    for el in data1:\n",
    "        resource_type = el['resource']['resourceType']\n",
    "#         l.append([resource_type])\n",
    "        if resource_type == 'Patient':\n",
    "            cleaned_data1.update(process_dem_data(el))\n",
    "        if resource_type == 'Condition':\n",
    "            conditions_l.append(el['resource']['code']['text'])\n",
    "        if resource_type == 'Procedure':\n",
    "            procedures_l.append(el['resource']['code']['text'])\n",
    "        if resource_type == 'MedicationRequest':\n",
    "            medications_l.append(el['resource']['medicationCodeableConcept']['text'])\n",
    "            \n",
    "#             return el\n",
    "    cleaned_data1['conditions'] = list(set(conditions_l))\n",
    "    cleaned_data1['procedures'] = list(set(procedures_l))\n",
    "    cleaned_data1['medications'] = list(set(medications_l))\n",
    "    return cleaned_data1\n",
    "    \n",
    "l = []\n",
    "for file in onlyfiles:\n",
    "    l.append(clean_fhir_data(file))"
   ]
  },
  {
   "cell_type": "code",
   "execution_count": 120,
   "id": "08cc3e97",
   "metadata": {},
   "outputs": [
    {
     "name": "stdout",
     "output_type": "stream",
     "text": [
      "1180\n"
     ]
    }
   ],
   "source": [
    "print(len(l))"
   ]
  },
  {
   "cell_type": "code",
   "execution_count": 121,
   "id": "ae946ea4",
   "metadata": {},
   "outputs": [],
   "source": [
    "# Serializing json\n",
    "json_object = json.dumps(l, indent=4)\n",
    " \n",
    "# Writing to sample.json\n",
    "with open(\"sample.json\", \"w\") as outfile:\n",
    "    outfile.write(json_object)"
   ]
  },
  {
   "cell_type": "code",
   "execution_count": null,
   "id": "9aac9466",
   "metadata": {},
   "outputs": [],
   "source": []
  }
 ],
 "metadata": {
  "kernelspec": {
   "display_name": "Python 3 (ipykernel)",
   "language": "python",
   "name": "python3"
  },
  "language_info": {
   "codemirror_mode": {
    "name": "ipython",
    "version": 3
   },
   "file_extension": ".py",
   "mimetype": "text/x-python",
   "name": "python",
   "nbconvert_exporter": "python",
   "pygments_lexer": "ipython3",
   "version": "3.10.9"
  }
 },
 "nbformat": 4,
 "nbformat_minor": 5
}
